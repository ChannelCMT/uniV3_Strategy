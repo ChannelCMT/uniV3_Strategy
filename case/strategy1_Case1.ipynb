{
 "cells": [
  {
   "cell_type": "markdown",
   "metadata": {},
   "source": [
    "# 导入模块"
   ]
  },
  {
   "cell_type": "code",
   "execution_count": 1,
   "metadata": {},
   "outputs": [],
   "source": [
    "import os\n",
    "import sys\n",
    "\n",
    "syspath = os.path.split(os.path.abspath(\".\"))[0]\n",
    "sys.path.append(syspath)"
   ]
  },
  {
   "cell_type": "code",
   "execution_count": 2,
   "metadata": {},
   "outputs": [],
   "source": [
    "import univ3api.simulation as sim\n",
    "import univ3api.utils as utils\n",
    "import importlib\n",
    "import pandas as pd"
   ]
  },
  {
   "cell_type": "code",
   "execution_count": 3,
   "metadata": {},
   "outputs": [
    {
     "data": {
      "text/plain": [
       "<module 'univ3api.simulation' from 'D:\\\\2020Tool\\\\univ3apiChannel\\\\univ3api\\\\simulation.py'>"
      ]
     },
     "execution_count": 3,
     "metadata": {},
     "output_type": "execute_result"
    }
   ],
   "source": [
    "# run if simulation file is updated\n",
    "importlib.reload(sim)"
   ]
  },
  {
   "cell_type": "markdown",
   "metadata": {},
   "source": [
    "## 链上数据\n",
    "\n",
    "### SwapEvent\n",
    "\n",
    "记录了该流动性池的每一笔swap\n",
    "\n",
    "### Block\n",
    "\n",
    "区块信息，用于提供时间戳"
   ]
  },
  {
   "cell_type": "code",
   "execution_count": 4,
   "metadata": {},
   "outputs": [],
   "source": [
    "HOST = \"mongodb://172.16.11.81:27017/ETHDATA\"\n",
    "source = sim.DataUtilMongoDB(HOST)"
   ]
  },
  {
   "cell_type": "markdown",
   "metadata": {},
   "source": [
    "# 转时间成Timestamp"
   ]
  },
  {
   "cell_type": "code",
   "execution_count": 5,
   "metadata": {},
   "outputs": [],
   "source": [
    "from datetime import datetime\n",
    "import time\n",
    "d1 = datetime(2021,5, 10, 9)\n",
    "d2 = datetime(2021,9, 1,9)\n",
    "t1 = int(time.mktime(d1.timetuple()))\n",
    "t2 = int(time.mktime(d2.timetuple()))"
   ]
  },
  {
   "cell_type": "code",
   "execution_count": 6,
   "metadata": {},
   "outputs": [],
   "source": [
    "swapdata = source.swap_by_time(\"SWAP_WETH_USDT_3000\", t1, t2)"
   ]
  },
  {
   "cell_type": "markdown",
   "metadata": {},
   "source": [
    "### 先生成带时间戳的价格数据"
   ]
  },
  {
   "cell_type": "code",
   "execution_count": 7,
   "metadata": {},
   "outputs": [
    {
     "data": {
      "text/html": [
       "<div>\n",
       "<style scoped>\n",
       "    .dataframe tbody tr th:only-of-type {\n",
       "        vertical-align: middle;\n",
       "    }\n",
       "\n",
       "    .dataframe tbody tr th {\n",
       "        vertical-align: top;\n",
       "    }\n",
       "\n",
       "    .dataframe thead th {\n",
       "        text-align: right;\n",
       "    }\n",
       "</style>\n",
       "<table border=\"1\" class=\"dataframe\">\n",
       "  <thead>\n",
       "    <tr style=\"text-align: right;\">\n",
       "      <th></th>\n",
       "      <th>transactionHash</th>\n",
       "      <th>logIndex</th>\n",
       "      <th>transactionIndex</th>\n",
       "      <th>blockNumber</th>\n",
       "      <th>recipient</th>\n",
       "      <th>amount0</th>\n",
       "      <th>amount1</th>\n",
       "      <th>sqrtPriceX96</th>\n",
       "      <th>liquidity</th>\n",
       "      <th>tick</th>\n",
       "      <th>timestamp</th>\n",
       "    </tr>\n",
       "  </thead>\n",
       "  <tbody>\n",
       "    <tr>\n",
       "      <th>89854</th>\n",
       "      <td>0x6b236a1c63e56cf0fa11140df8e0066544a507ad64c3...</td>\n",
       "      <td>79</td>\n",
       "      <td>15</td>\n",
       "      <td>13136619</td>\n",
       "      <td>0x56178a0d5F301bAf6CF3e1Cd53d9863437345Bf9</td>\n",
       "      <td>145814684683602982470</td>\n",
       "      <td>-497167401705</td>\n",
       "      <td>4631662768854013417290124</td>\n",
       "      <td>12664890714804986397</td>\n",
       "      <td>-194954</td>\n",
       "      <td>1630457126</td>\n",
       "    </tr>\n",
       "    <tr>\n",
       "      <th>89855</th>\n",
       "      <td>0x0cd53e138d82fc204f6fd482d9fa8529b97d1d2e6527...</td>\n",
       "      <td>14</td>\n",
       "      <td>3</td>\n",
       "      <td>13136627</td>\n",
       "      <td>0x56178a0d5F301bAf6CF3e1Cd53d9863437345Bf9</td>\n",
       "      <td>138778256571029358535</td>\n",
       "      <td>-472556781740</td>\n",
       "      <td>4628706580257992200781605</td>\n",
       "      <td>12664890714804986397</td>\n",
       "      <td>-194966</td>\n",
       "      <td>1630457282</td>\n",
       "    </tr>\n",
       "    <tr>\n",
       "      <th>89856</th>\n",
       "      <td>0x1f40d32e3d8b481195f4f54f46e3ff9a6dc546c2cf77...</td>\n",
       "      <td>62</td>\n",
       "      <td>8</td>\n",
       "      <td>13136628</td>\n",
       "      <td>0x30c5312d9CF0d873994f000e72F1cbf561D0209C</td>\n",
       "      <td>5905315769464742801</td>\n",
       "      <td>-20094935817</td>\n",
       "      <td>4628580871724334153468064</td>\n",
       "      <td>12664890714804986397</td>\n",
       "      <td>-194967</td>\n",
       "      <td>1630457308</td>\n",
       "    </tr>\n",
       "    <tr>\n",
       "      <th>89857</th>\n",
       "      <td>0x6a6fe9781450b9e13bb2b9ab76d169e5a3ef1e0d92cb...</td>\n",
       "      <td>11</td>\n",
       "      <td>2</td>\n",
       "      <td>13136630</td>\n",
       "      <td>0x56178a0d5F301bAf6CF3e1Cd53d9863437345Bf9</td>\n",
       "      <td>120371991767956761948</td>\n",
       "      <td>-409370738059</td>\n",
       "      <td>4626019958085682040554705</td>\n",
       "      <td>12664890714804986397</td>\n",
       "      <td>-194978</td>\n",
       "      <td>1630457355</td>\n",
       "    </tr>\n",
       "    <tr>\n",
       "      <th>89858</th>\n",
       "      <td>0x15f56ed54c6e396a1898ce49008bb762a6aa5829afdb...</td>\n",
       "      <td>3</td>\n",
       "      <td>0</td>\n",
       "      <td>13136650</td>\n",
       "      <td>0x56178a0d5F301bAf6CF3e1Cd53d9863437345Bf9</td>\n",
       "      <td>72937003999237118414</td>\n",
       "      <td>-247829694775</td>\n",
       "      <td>4624469601925831472801006</td>\n",
       "      <td>12664890714804986397</td>\n",
       "      <td>-194985</td>\n",
       "      <td>1630457561</td>\n",
       "    </tr>\n",
       "  </tbody>\n",
       "</table>\n",
       "</div>"
      ],
      "text/plain": [
       "                                         transactionHash  logIndex  \\\n",
       "89854  0x6b236a1c63e56cf0fa11140df8e0066544a507ad64c3...        79   \n",
       "89855  0x0cd53e138d82fc204f6fd482d9fa8529b97d1d2e6527...        14   \n",
       "89856  0x1f40d32e3d8b481195f4f54f46e3ff9a6dc546c2cf77...        62   \n",
       "89857  0x6a6fe9781450b9e13bb2b9ab76d169e5a3ef1e0d92cb...        11   \n",
       "89858  0x15f56ed54c6e396a1898ce49008bb762a6aa5829afdb...         3   \n",
       "\n",
       "       transactionIndex  blockNumber  \\\n",
       "89854                15     13136619   \n",
       "89855                 3     13136627   \n",
       "89856                 8     13136628   \n",
       "89857                 2     13136630   \n",
       "89858                 0     13136650   \n",
       "\n",
       "                                        recipient                amount0  \\\n",
       "89854  0x56178a0d5F301bAf6CF3e1Cd53d9863437345Bf9  145814684683602982470   \n",
       "89855  0x56178a0d5F301bAf6CF3e1Cd53d9863437345Bf9  138778256571029358535   \n",
       "89856  0x30c5312d9CF0d873994f000e72F1cbf561D0209C    5905315769464742801   \n",
       "89857  0x56178a0d5F301bAf6CF3e1Cd53d9863437345Bf9  120371991767956761948   \n",
       "89858  0x56178a0d5F301bAf6CF3e1Cd53d9863437345Bf9   72937003999237118414   \n",
       "\n",
       "            amount1               sqrtPriceX96             liquidity    tick  \\\n",
       "89854 -497167401705  4631662768854013417290124  12664890714804986397 -194954   \n",
       "89855 -472556781740  4628706580257992200781605  12664890714804986397 -194966   \n",
       "89856  -20094935817  4628580871724334153468064  12664890714804986397 -194967   \n",
       "89857 -409370738059  4626019958085682040554705  12664890714804986397 -194978   \n",
       "89858 -247829694775  4624469601925831472801006  12664890714804986397 -194985   \n",
       "\n",
       "        timestamp  \n",
       "89854  1630457126  \n",
       "89855  1630457282  \n",
       "89856  1630457308  \n",
       "89857  1630457355  \n",
       "89858  1630457561  "
      ]
     },
     "execution_count": 7,
     "metadata": {},
     "output_type": "execute_result"
    }
   ],
   "source": [
    "swapdata.tail()"
   ]
  },
  {
   "cell_type": "code",
   "execution_count": 8,
   "metadata": {},
   "outputs": [
    {
     "name": "stderr",
     "output_type": "stream",
     "text": [
      "C:\\Users\\channelchan\\Anaconda3\\lib\\site-packages\\ipykernel_launcher.py:2: SettingWithCopyWarning: \n",
      "A value is trying to be set on a copy of a slice from a DataFrame.\n",
      "Try using .loc[row_indexer,col_indexer] = value instead\n",
      "\n",
      "See the caveats in the documentation: https://pandas.pydata.org/pandas-docs/stable/user_guide/indexing.html#returning-a-view-versus-a-copy\n",
      "  \n"
     ]
    }
   ],
   "source": [
    "pricedata = swapdata[[\"timestamp\", \"sqrtPriceX96\"]]\n",
    "pricedata[\"price\"] = pricedata[\"sqrtPriceX96\"].apply(utils.PriceConverter(18, 6).x96_to_price)"
   ]
  },
  {
   "cell_type": "code",
   "execution_count": 9,
   "metadata": {},
   "outputs": [
    {
     "data": {
      "text/html": [
       "<div>\n",
       "<style scoped>\n",
       "    .dataframe tbody tr th:only-of-type {\n",
       "        vertical-align: middle;\n",
       "    }\n",
       "\n",
       "    .dataframe tbody tr th {\n",
       "        vertical-align: top;\n",
       "    }\n",
       "\n",
       "    .dataframe thead th {\n",
       "        text-align: right;\n",
       "    }\n",
       "</style>\n",
       "<table border=\"1\" class=\"dataframe\">\n",
       "  <thead>\n",
       "    <tr style=\"text-align: right;\">\n",
       "      <th></th>\n",
       "      <th>timestamp</th>\n",
       "      <th>sqrtPriceX96</th>\n",
       "      <th>price</th>\n",
       "    </tr>\n",
       "  </thead>\n",
       "  <tbody>\n",
       "    <tr>\n",
       "      <th>89854</th>\n",
       "      <td>1630457126</td>\n",
       "      <td>4631662768854013417290124</td>\n",
       "      <td>3417.548561</td>\n",
       "    </tr>\n",
       "    <tr>\n",
       "      <th>89855</th>\n",
       "      <td>1630457282</td>\n",
       "      <td>4628706580257992200781605</td>\n",
       "      <td>3413.187409</td>\n",
       "    </tr>\n",
       "    <tr>\n",
       "      <th>89856</th>\n",
       "      <td>1630457308</td>\n",
       "      <td>4628580871724334153468064</td>\n",
       "      <td>3413.002017</td>\n",
       "    </tr>\n",
       "    <tr>\n",
       "      <th>89857</th>\n",
       "      <td>1630457355</td>\n",
       "      <td>4626019958085682040554705</td>\n",
       "      <td>3409.226352</td>\n",
       "    </tr>\n",
       "    <tr>\n",
       "      <th>89858</th>\n",
       "      <td>1630457561</td>\n",
       "      <td>4624469601925831472801006</td>\n",
       "      <td>3406.941611</td>\n",
       "    </tr>\n",
       "  </tbody>\n",
       "</table>\n",
       "</div>"
      ],
      "text/plain": [
       "        timestamp               sqrtPriceX96        price\n",
       "89854  1630457126  4631662768854013417290124  3417.548561\n",
       "89855  1630457282  4628706580257992200781605  3413.187409\n",
       "89856  1630457308  4628580871724334153468064  3413.002017\n",
       "89857  1630457355  4626019958085682040554705  3409.226352\n",
       "89858  1630457561  4624469601925831472801006  3406.941611"
      ]
     },
     "execution_count": 9,
     "metadata": {},
     "output_type": "execute_result"
    }
   ],
   "source": [
    "pricedata.tail()"
   ]
  },
  {
   "cell_type": "markdown",
   "metadata": {},
   "source": [
    "## 生成日价格大于50均线的DataFrame"
   ]
  },
  {
   "cell_type": "code",
   "execution_count": 10,
   "metadata": {},
   "outputs": [],
   "source": [
    "priceDf = pricedata"
   ]
  },
  {
   "cell_type": "code",
   "execution_count": 11,
   "metadata": {},
   "outputs": [
    {
     "name": "stderr",
     "output_type": "stream",
     "text": [
      "C:\\Users\\channelchan\\Anaconda3\\lib\\site-packages\\ipykernel_launcher.py:1: SettingWithCopyWarning: \n",
      "A value is trying to be set on a copy of a slice from a DataFrame.\n",
      "Try using .loc[row_indexer,col_indexer] = value instead\n",
      "\n",
      "See the caveats in the documentation: https://pandas.pydata.org/pandas-docs/stable/user_guide/indexing.html#returning-a-view-versus-a-copy\n",
      "  \"\"\"Entry point for launching an IPython kernel.\n"
     ]
    }
   ],
   "source": [
    "priceDf['datetime'] = list(map(lambda d: datetime.fromtimestamp(d), priceDf['timestamp'] ))"
   ]
  },
  {
   "cell_type": "code",
   "execution_count": 12,
   "metadata": {},
   "outputs": [],
   "source": [
    "priceDt = priceDf.set_index('datetime')"
   ]
  },
  {
   "cell_type": "code",
   "execution_count": 13,
   "metadata": {},
   "outputs": [],
   "source": [
    "priceDay = priceDt.resample('D').last()"
   ]
  },
  {
   "cell_type": "code",
   "execution_count": 14,
   "metadata": {},
   "outputs": [],
   "source": [
    "priceDay['MA50'] = priceDay['price'].rolling(50).mean()"
   ]
  },
  {
   "cell_type": "code",
   "execution_count": 15,
   "metadata": {},
   "outputs": [],
   "source": [
    "priceDay['Trend'] = priceDay['price']>=priceDay['MA50']"
   ]
  },
  {
   "cell_type": "code",
   "execution_count": 16,
   "metadata": {},
   "outputs": [],
   "source": [
    "priceDay.index = list(map(lambda d: d.date(), priceDay.index))"
   ]
  },
  {
   "cell_type": "code",
   "execution_count": 17,
   "metadata": {},
   "outputs": [],
   "source": [
    "trendDict = dict(priceDay['Trend'])"
   ]
  },
  {
   "cell_type": "code",
   "execution_count": 18,
   "metadata": {},
   "outputs": [],
   "source": [
    "priceDt['date'] = list(map(lambda d: d.date(), priceDt.index))"
   ]
  },
  {
   "cell_type": "code",
   "execution_count": 19,
   "metadata": {},
   "outputs": [
    {
     "data": {
      "text/html": [
       "<div>\n",
       "<style scoped>\n",
       "    .dataframe tbody tr th:only-of-type {\n",
       "        vertical-align: middle;\n",
       "    }\n",
       "\n",
       "    .dataframe tbody tr th {\n",
       "        vertical-align: top;\n",
       "    }\n",
       "\n",
       "    .dataframe thead th {\n",
       "        text-align: right;\n",
       "    }\n",
       "</style>\n",
       "<table border=\"1\" class=\"dataframe\">\n",
       "  <thead>\n",
       "    <tr style=\"text-align: right;\">\n",
       "      <th></th>\n",
       "      <th>timestamp</th>\n",
       "      <th>sqrtPriceX96</th>\n",
       "      <th>price</th>\n",
       "      <th>date</th>\n",
       "    </tr>\n",
       "    <tr>\n",
       "      <th>datetime</th>\n",
       "      <th></th>\n",
       "      <th></th>\n",
       "      <th></th>\n",
       "      <th></th>\n",
       "    </tr>\n",
       "  </thead>\n",
       "  <tbody>\n",
       "    <tr>\n",
       "      <th>2021-05-10 09:00:15</th>\n",
       "      <td>1620608415</td>\n",
       "      <td>4950372593694415524150419</td>\n",
       "      <td>3904.061118</td>\n",
       "      <td>2021-05-10</td>\n",
       "    </tr>\n",
       "    <tr>\n",
       "      <th>2021-05-10 09:03:40</th>\n",
       "      <td>1620608620</td>\n",
       "      <td>4950714025650391927763989</td>\n",
       "      <td>3904.599670</td>\n",
       "      <td>2021-05-10</td>\n",
       "    </tr>\n",
       "    <tr>\n",
       "      <th>2021-05-10 09:05:17</th>\n",
       "      <td>1620608717</td>\n",
       "      <td>4950722657183851518816584</td>\n",
       "      <td>3904.613285</td>\n",
       "      <td>2021-05-10</td>\n",
       "    </tr>\n",
       "    <tr>\n",
       "      <th>2021-05-10 09:19:10</th>\n",
       "      <td>1620609550</td>\n",
       "      <td>4949701065479238300877944</td>\n",
       "      <td>3903.002002</td>\n",
       "      <td>2021-05-10</td>\n",
       "    </tr>\n",
       "    <tr>\n",
       "      <th>2021-05-10 09:21:38</th>\n",
       "      <td>1620609698</td>\n",
       "      <td>4949886229297224528026940</td>\n",
       "      <td>3903.294023</td>\n",
       "      <td>2021-05-10</td>\n",
       "    </tr>\n",
       "    <tr>\n",
       "      <th>...</th>\n",
       "      <td>...</td>\n",
       "      <td>...</td>\n",
       "      <td>...</td>\n",
       "      <td>...</td>\n",
       "    </tr>\n",
       "    <tr>\n",
       "      <th>2021-09-01 08:45:26</th>\n",
       "      <td>1630457126</td>\n",
       "      <td>4631662768854013417290124</td>\n",
       "      <td>3417.548561</td>\n",
       "      <td>2021-09-01</td>\n",
       "    </tr>\n",
       "    <tr>\n",
       "      <th>2021-09-01 08:48:02</th>\n",
       "      <td>1630457282</td>\n",
       "      <td>4628706580257992200781605</td>\n",
       "      <td>3413.187409</td>\n",
       "      <td>2021-09-01</td>\n",
       "    </tr>\n",
       "    <tr>\n",
       "      <th>2021-09-01 08:48:28</th>\n",
       "      <td>1630457308</td>\n",
       "      <td>4628580871724334153468064</td>\n",
       "      <td>3413.002017</td>\n",
       "      <td>2021-09-01</td>\n",
       "    </tr>\n",
       "    <tr>\n",
       "      <th>2021-09-01 08:49:15</th>\n",
       "      <td>1630457355</td>\n",
       "      <td>4626019958085682040554705</td>\n",
       "      <td>3409.226352</td>\n",
       "      <td>2021-09-01</td>\n",
       "    </tr>\n",
       "    <tr>\n",
       "      <th>2021-09-01 08:52:41</th>\n",
       "      <td>1630457561</td>\n",
       "      <td>4624469601925831472801006</td>\n",
       "      <td>3406.941611</td>\n",
       "      <td>2021-09-01</td>\n",
       "    </tr>\n",
       "  </tbody>\n",
       "</table>\n",
       "<p>89859 rows × 4 columns</p>\n",
       "</div>"
      ],
      "text/plain": [
       "                      timestamp               sqrtPriceX96        price  \\\n",
       "datetime                                                                  \n",
       "2021-05-10 09:00:15  1620608415  4950372593694415524150419  3904.061118   \n",
       "2021-05-10 09:03:40  1620608620  4950714025650391927763989  3904.599670   \n",
       "2021-05-10 09:05:17  1620608717  4950722657183851518816584  3904.613285   \n",
       "2021-05-10 09:19:10  1620609550  4949701065479238300877944  3903.002002   \n",
       "2021-05-10 09:21:38  1620609698  4949886229297224528026940  3903.294023   \n",
       "...                         ...                        ...          ...   \n",
       "2021-09-01 08:45:26  1630457126  4631662768854013417290124  3417.548561   \n",
       "2021-09-01 08:48:02  1630457282  4628706580257992200781605  3413.187409   \n",
       "2021-09-01 08:48:28  1630457308  4628580871724334153468064  3413.002017   \n",
       "2021-09-01 08:49:15  1630457355  4626019958085682040554705  3409.226352   \n",
       "2021-09-01 08:52:41  1630457561  4624469601925831472801006  3406.941611   \n",
       "\n",
       "                           date  \n",
       "datetime                         \n",
       "2021-05-10 09:00:15  2021-05-10  \n",
       "2021-05-10 09:03:40  2021-05-10  \n",
       "2021-05-10 09:05:17  2021-05-10  \n",
       "2021-05-10 09:19:10  2021-05-10  \n",
       "2021-05-10 09:21:38  2021-05-10  \n",
       "...                         ...  \n",
       "2021-09-01 08:45:26  2021-09-01  \n",
       "2021-09-01 08:48:02  2021-09-01  \n",
       "2021-09-01 08:48:28  2021-09-01  \n",
       "2021-09-01 08:49:15  2021-09-01  \n",
       "2021-09-01 08:52:41  2021-09-01  \n",
       "\n",
       "[89859 rows x 4 columns]"
      ]
     },
     "execution_count": 19,
     "metadata": {},
     "output_type": "execute_result"
    }
   ],
   "source": [
    "priceDt"
   ]
  },
  {
   "cell_type": "code",
   "execution_count": 20,
   "metadata": {
    "scrolled": true
   },
   "outputs": [],
   "source": [
    "trendList = []\n",
    "for i, v in priceDt.iterrows():\n",
    "    trendList.append(trendDict[v['date']])"
   ]
  },
  {
   "cell_type": "code",
   "execution_count": 21,
   "metadata": {},
   "outputs": [],
   "source": [
    "priceDt['trend'] = trendList"
   ]
  },
  {
   "cell_type": "code",
   "execution_count": 22,
   "metadata": {},
   "outputs": [
    {
     "data": {
      "text/html": [
       "<div>\n",
       "<style scoped>\n",
       "    .dataframe tbody tr th:only-of-type {\n",
       "        vertical-align: middle;\n",
       "    }\n",
       "\n",
       "    .dataframe tbody tr th {\n",
       "        vertical-align: top;\n",
       "    }\n",
       "\n",
       "    .dataframe thead th {\n",
       "        text-align: right;\n",
       "    }\n",
       "</style>\n",
       "<table border=\"1\" class=\"dataframe\">\n",
       "  <thead>\n",
       "    <tr style=\"text-align: right;\">\n",
       "      <th></th>\n",
       "      <th>timestamp</th>\n",
       "      <th>sqrtPriceX96</th>\n",
       "      <th>price</th>\n",
       "      <th>date</th>\n",
       "      <th>trend</th>\n",
       "    </tr>\n",
       "    <tr>\n",
       "      <th>datetime</th>\n",
       "      <th></th>\n",
       "      <th></th>\n",
       "      <th></th>\n",
       "      <th></th>\n",
       "      <th></th>\n",
       "    </tr>\n",
       "  </thead>\n",
       "  <tbody>\n",
       "    <tr>\n",
       "      <th>2021-09-01 08:45:26</th>\n",
       "      <td>1630457126</td>\n",
       "      <td>4631662768854013417290124</td>\n",
       "      <td>3417.548561</td>\n",
       "      <td>2021-09-01</td>\n",
       "      <td>True</td>\n",
       "    </tr>\n",
       "    <tr>\n",
       "      <th>2021-09-01 08:48:02</th>\n",
       "      <td>1630457282</td>\n",
       "      <td>4628706580257992200781605</td>\n",
       "      <td>3413.187409</td>\n",
       "      <td>2021-09-01</td>\n",
       "      <td>True</td>\n",
       "    </tr>\n",
       "    <tr>\n",
       "      <th>2021-09-01 08:48:28</th>\n",
       "      <td>1630457308</td>\n",
       "      <td>4628580871724334153468064</td>\n",
       "      <td>3413.002017</td>\n",
       "      <td>2021-09-01</td>\n",
       "      <td>True</td>\n",
       "    </tr>\n",
       "    <tr>\n",
       "      <th>2021-09-01 08:49:15</th>\n",
       "      <td>1630457355</td>\n",
       "      <td>4626019958085682040554705</td>\n",
       "      <td>3409.226352</td>\n",
       "      <td>2021-09-01</td>\n",
       "      <td>True</td>\n",
       "    </tr>\n",
       "    <tr>\n",
       "      <th>2021-09-01 08:52:41</th>\n",
       "      <td>1630457561</td>\n",
       "      <td>4624469601925831472801006</td>\n",
       "      <td>3406.941611</td>\n",
       "      <td>2021-09-01</td>\n",
       "      <td>True</td>\n",
       "    </tr>\n",
       "  </tbody>\n",
       "</table>\n",
       "</div>"
      ],
      "text/plain": [
       "                      timestamp               sqrtPriceX96        price  \\\n",
       "datetime                                                                  \n",
       "2021-09-01 08:45:26  1630457126  4631662768854013417290124  3417.548561   \n",
       "2021-09-01 08:48:02  1630457282  4628706580257992200781605  3413.187409   \n",
       "2021-09-01 08:48:28  1630457308  4628580871724334153468064  3413.002017   \n",
       "2021-09-01 08:49:15  1630457355  4626019958085682040554705  3409.226352   \n",
       "2021-09-01 08:52:41  1630457561  4624469601925831472801006  3406.941611   \n",
       "\n",
       "                           date  trend  \n",
       "datetime                                \n",
       "2021-09-01 08:45:26  2021-09-01   True  \n",
       "2021-09-01 08:48:02  2021-09-01   True  \n",
       "2021-09-01 08:48:28  2021-09-01   True  \n",
       "2021-09-01 08:49:15  2021-09-01   True  \n",
       "2021-09-01 08:52:41  2021-09-01   True  "
      ]
     },
     "execution_count": 22,
     "metadata": {},
     "output_type": "execute_result"
    }
   ],
   "source": [
    "priceDt.tail()"
   ]
  },
  {
   "cell_type": "markdown",
   "metadata": {},
   "source": [
    "### 初始化参数"
   ]
  },
  {
   "cell_type": "code",
   "execution_count": 23,
   "metadata": {},
   "outputs": [],
   "source": [
    "init_price = priceDt[\"price\"][0]\n",
    "\n",
    "decimal0 = 18\n",
    "decimal1 = 6\n",
    "\n",
    "init_amount0 = 0\n",
    "init_amount1 = 1000000*1e6"
   ]
  },
  {
   "cell_type": "markdown",
   "metadata": {},
   "source": [
    "### 运行策略"
   ]
  },
  {
   "cell_type": "code",
   "execution_count": 25,
   "metadata": {
    "scrolled": false
   },
   "outputs": [
    {
     "name": "stderr",
     "output_type": "stream",
     "text": [
      "C:\\Users\\channelchan\\Anaconda3\\lib\\site-packages\\pandas\\core\\frame.py:1554: FutureWarning: Using short name for 'orient' is deprecated. Only the options: ('dict', list, 'series', 'split', 'records', 'index') will be used in a future version. Use one of the above to silence this warning.\n",
      "  FutureWarning,\n"
     ]
    },
    {
     "name": "stdout",
     "output_type": "stream",
     "text": [
      "$$$$$$$: 2670.057793611629\n",
      "$$$$$$$: 1708.8369879114427\n",
      "######: 101756322027883072 228638780244870037504 499750000000\n",
      "t0: 228638780244870266880 t1: 499750000000\n",
      "1627228257, 12896322\n",
      "Mint position： Position(L=101370775942769696, tick=[-201900, -197460], range=[1706.2113, 2659.8057])\n",
      "Mint amount: token0=226.8863962841141, token1=499750.0\n",
      "Wallet amount: token0=6.977599094808281, token1=0.0\n",
      "Price(2672.479561316052) out of range(1708.8369879114427, 2670.057793611629)\n",
      "1627848347, 12941671\n",
      "Decreased position： Position(L=0, tick=[-201900, -197460], range=[1706.2113, 2659.8057])\n",
      "Decreased amount: token0=0.0, token1=1040773.146157\n",
      "Wallet amount: token0=6.977599094808281, token1=1040773.146157\n",
      "$$$$$$$: 3345.2186488996817\n",
      "$$$$$$$: 2140.9399352957967\n",
      "######: 93364043660190848 189435063876001431552 520804894709\n",
      "t0: 189435063876001431552 t1: 520804894709\n",
      "1627848487, 12941682\n",
      "Mint position： Position(L=92725112177527712, tick=[-199680, -195180], range=[2130.3029, 3340.9048])\n",
      "Mint amount: token0=189.43506387600132, token1=513773.719943\n",
      "Wallet amount: token0=12.576406534748932, token1=7031.174766\n",
      "Price(3346.5955668625297) out of range(2140.9399352957967, 3345.2186488996817)\n",
      "1629713019, 13080905\n",
      "Decreased position： Position(L=0, tick=[-199680, -195180], range=[2130.3029, 3340.9048])\n",
      "Decreased amount: token0=0.0, token1=1079816.970084\n",
      "Wallet amount: token0=12.576406534748932, token1=1086848.14485\n",
      "$$$$$$$: 4183.355851082022\n",
      "$$$$$$$: 2677.347744692494\n",
      "######: 88987883017020320 160356356140193382400 544993249268\n",
      "t0: 160356356140193185792 t1: 544993249267\n",
      "1629713022, 13080906\n",
      "Mint position： Position(L=88946074774170160, tick=[-197400, -192960], range=[2675.8117, 4171.3118])\n",
      "Mint amount: token0=160.35635614019304, token1=544485.060821\n",
      "Wallet amount: token0=16.169232732619385, token1=508.188447\n"
     ]
    }
   ],
   "source": [
    "import ethusdt_strategy\n",
    "importlib.reload(utils)\n",
    "importlib.reload(sim)\n",
    "importlib.reload(ethusdt_strategy)\n",
    "\n",
    "strategy = ethusdt_strategy.HoldStrategy(init_amount0, init_amount1, decimal0, decimal1, sim.PoolFee.low, False)\n",
    "strategy.init(swapdata.iloc[0].to_dict())\n",
    "strategy.run(swapdata, priceDt)\n",
    "report = strategy.report()"
   ]
  },
  {
   "cell_type": "markdown",
   "metadata": {},
   "source": [
    "### 池子在回测时间内发生了3次撤池与重建"
   ]
  },
  {
   "cell_type": "markdown",
   "metadata": {},
   "source": [
    "### 画图 查看每次建池的资产状况"
   ]
  },
  {
   "cell_type": "code",
   "execution_count": 27,
   "metadata": {},
   "outputs": [],
   "source": [
    "# report.positions[1].plot_balance()"
   ]
  },
  {
   "cell_type": "code",
   "execution_count": 28,
   "metadata": {
    "scrolled": false
   },
   "outputs": [
    {
     "data": {
      "text/html": [
       "<div>\n",
       "<style scoped>\n",
       "    .dataframe tbody tr th:only-of-type {\n",
       "        vertical-align: middle;\n",
       "    }\n",
       "\n",
       "    .dataframe tbody tr th {\n",
       "        vertical-align: top;\n",
       "    }\n",
       "\n",
       "    .dataframe thead th {\n",
       "        text-align: right;\n",
       "    }\n",
       "</style>\n",
       "<table border=\"1\" class=\"dataframe\">\n",
       "  <thead>\n",
       "    <tr style=\"text-align: right;\">\n",
       "      <th></th>\n",
       "      <th>datetime</th>\n",
       "      <th>amount0</th>\n",
       "      <th>fee0</th>\n",
       "      <th>cumFee0</th>\n",
       "      <th>collectedFee0</th>\n",
       "      <th>amount1</th>\n",
       "      <th>fee1</th>\n",
       "      <th>cumFee1</th>\n",
       "      <th>collectedFee1</th>\n",
       "    </tr>\n",
       "  </thead>\n",
       "  <tbody>\n",
       "    <tr>\n",
       "      <th>0</th>\n",
       "      <td>2021-07-25 23:50:57</td>\n",
       "      <td>226.886396</td>\n",
       "      <td>0.000000</td>\n",
       "      <td>0.000000</td>\n",
       "      <td>0.000000</td>\n",
       "      <td>4.997500e+05</td>\n",
       "      <td>0.000000</td>\n",
       "      <td>0.000000</td>\n",
       "      <td>0.000000</td>\n",
       "    </tr>\n",
       "    <tr>\n",
       "      <th>1</th>\n",
       "      <td>2021-07-26 00:13:45</td>\n",
       "      <td>227.780678</td>\n",
       "      <td>0.000447</td>\n",
       "      <td>0.000447</td>\n",
       "      <td>0.000447</td>\n",
       "      <td>4.978390e+05</td>\n",
       "      <td>0.000000</td>\n",
       "      <td>0.000000</td>\n",
       "      <td>0.000000</td>\n",
       "    </tr>\n",
       "    <tr>\n",
       "      <th>2</th>\n",
       "      <td>2021-07-26 00:42:50</td>\n",
       "      <td>228.18275</td>\n",
       "      <td>0.000201</td>\n",
       "      <td>0.000648</td>\n",
       "      <td>0.000648</td>\n",
       "      <td>4.969803e+05</td>\n",
       "      <td>0.000000</td>\n",
       "      <td>0.000000</td>\n",
       "      <td>0.000000</td>\n",
       "    </tr>\n",
       "    <tr>\n",
       "      <th>3</th>\n",
       "      <td>2021-07-26 00:43:04</td>\n",
       "      <td>228.566847</td>\n",
       "      <td>0.000192</td>\n",
       "      <td>0.000840</td>\n",
       "      <td>0.000840</td>\n",
       "      <td>4.961603e+05</td>\n",
       "      <td>0.000000</td>\n",
       "      <td>0.000000</td>\n",
       "      <td>0.000000</td>\n",
       "    </tr>\n",
       "    <tr>\n",
       "      <th>4</th>\n",
       "      <td>2021-07-26 00:44:59</td>\n",
       "      <td>228.931064</td>\n",
       "      <td>0.000182</td>\n",
       "      <td>0.001022</td>\n",
       "      <td>0.001022</td>\n",
       "      <td>4.953830e+05</td>\n",
       "      <td>0.000000</td>\n",
       "      <td>0.000000</td>\n",
       "      <td>0.000000</td>\n",
       "    </tr>\n",
       "    <tr>\n",
       "      <th>...</th>\n",
       "      <td>...</td>\n",
       "      <td>...</td>\n",
       "      <td>...</td>\n",
       "      <td>...</td>\n",
       "      <td>...</td>\n",
       "      <td>...</td>\n",
       "      <td>...</td>\n",
       "      <td>...</td>\n",
       "      <td>...</td>\n",
       "    </tr>\n",
       "    <tr>\n",
       "      <th>3443</th>\n",
       "      <td>2021-08-02 03:53:44</td>\n",
       "      <td>2.462183</td>\n",
       "      <td>0.000000</td>\n",
       "      <td>0.464564</td>\n",
       "      <td>0.464564</td>\n",
       "      <td>1.034232e+06</td>\n",
       "      <td>1.756217</td>\n",
       "      <td>1354.438320</td>\n",
       "      <td>1354.438320</td>\n",
       "    </tr>\n",
       "    <tr>\n",
       "      <th>3444</th>\n",
       "      <td>2021-08-02 04:04:19</td>\n",
       "      <td>1.233724</td>\n",
       "      <td>0.000000</td>\n",
       "      <td>0.464564</td>\n",
       "      <td>0.464564</td>\n",
       "      <td>1.037494e+06</td>\n",
       "      <td>1.630663</td>\n",
       "      <td>1356.068983</td>\n",
       "      <td>1356.068983</td>\n",
       "    </tr>\n",
       "    <tr>\n",
       "      <th>3445</th>\n",
       "      <td>2021-08-02 04:04:44</td>\n",
       "      <td>0.0</td>\n",
       "      <td>0.000000</td>\n",
       "      <td>0.464564</td>\n",
       "      <td>0.464564</td>\n",
       "      <td>1.040773e+06</td>\n",
       "      <td>1.639703</td>\n",
       "      <td>1357.708686</td>\n",
       "      <td>1357.708686</td>\n",
       "    </tr>\n",
       "    <tr>\n",
       "      <th>3446</th>\n",
       "      <td>2021-08-02 04:05:47</td>\n",
       "      <td>0.0</td>\n",
       "      <td>0.000000</td>\n",
       "      <td>0.464564</td>\n",
       "      <td>0.464564</td>\n",
       "      <td>1.040773e+06</td>\n",
       "      <td>0.000000</td>\n",
       "      <td>1357.708686</td>\n",
       "      <td>1357.708686</td>\n",
       "    </tr>\n",
       "    <tr>\n",
       "      <th>3447</th>\n",
       "      <td>2021-08-02 04:05:47</td>\n",
       "      <td>0.0</td>\n",
       "      <td>-0.464564</td>\n",
       "      <td>0.464564</td>\n",
       "      <td>0.000000</td>\n",
       "      <td>0.000000e+00</td>\n",
       "      <td>-1357.708686</td>\n",
       "      <td>1357.708686</td>\n",
       "      <td>0.000000</td>\n",
       "    </tr>\n",
       "  </tbody>\n",
       "</table>\n",
       "<p>3448 rows × 9 columns</p>\n",
       "</div>"
      ],
      "text/plain": [
       "                datetime     amount0      fee0   cumFee0  collectedFee0  \\\n",
       "0    2021-07-25 23:50:57  226.886396  0.000000  0.000000       0.000000   \n",
       "1    2021-07-26 00:13:45  227.780678  0.000447  0.000447       0.000447   \n",
       "2    2021-07-26 00:42:50   228.18275  0.000201  0.000648       0.000648   \n",
       "3    2021-07-26 00:43:04  228.566847  0.000192  0.000840       0.000840   \n",
       "4    2021-07-26 00:44:59  228.931064  0.000182  0.001022       0.001022   \n",
       "...                  ...         ...       ...       ...            ...   \n",
       "3443 2021-08-02 03:53:44    2.462183  0.000000  0.464564       0.464564   \n",
       "3444 2021-08-02 04:04:19    1.233724  0.000000  0.464564       0.464564   \n",
       "3445 2021-08-02 04:04:44         0.0  0.000000  0.464564       0.464564   \n",
       "3446 2021-08-02 04:05:47         0.0  0.000000  0.464564       0.464564   \n",
       "3447 2021-08-02 04:05:47         0.0 -0.464564  0.464564       0.000000   \n",
       "\n",
       "           amount1         fee1      cumFee1  collectedFee1  \n",
       "0     4.997500e+05     0.000000     0.000000       0.000000  \n",
       "1     4.978390e+05     0.000000     0.000000       0.000000  \n",
       "2     4.969803e+05     0.000000     0.000000       0.000000  \n",
       "3     4.961603e+05     0.000000     0.000000       0.000000  \n",
       "4     4.953830e+05     0.000000     0.000000       0.000000  \n",
       "...            ...          ...          ...            ...  \n",
       "3443  1.034232e+06     1.756217  1354.438320    1354.438320  \n",
       "3444  1.037494e+06     1.630663  1356.068983    1356.068983  \n",
       "3445  1.040773e+06     1.639703  1357.708686    1357.708686  \n",
       "3446  1.040773e+06     0.000000  1357.708686    1357.708686  \n",
       "3447  0.000000e+00 -1357.708686  1357.708686       0.000000  \n",
       "\n",
       "[3448 rows x 9 columns]"
      ]
     },
     "execution_count": 28,
     "metadata": {},
     "output_type": "execute_result"
    }
   ],
   "source": [
    "report.positions[1].get_balance(plain=True, draw_plot=True)"
   ]
  },
  {
   "cell_type": "code",
   "execution_count": 29,
   "metadata": {},
   "outputs": [
    {
     "data": {
      "text/html": [
       "<div>\n",
       "<style scoped>\n",
       "    .dataframe tbody tr th:only-of-type {\n",
       "        vertical-align: middle;\n",
       "    }\n",
       "\n",
       "    .dataframe tbody tr th {\n",
       "        vertical-align: top;\n",
       "    }\n",
       "\n",
       "    .dataframe thead th {\n",
       "        text-align: right;\n",
       "    }\n",
       "</style>\n",
       "<table border=\"1\" class=\"dataframe\">\n",
       "  <thead>\n",
       "    <tr style=\"text-align: right;\">\n",
       "      <th></th>\n",
       "      <th>datetime</th>\n",
       "      <th>amount0</th>\n",
       "      <th>fee0</th>\n",
       "      <th>cumFee0</th>\n",
       "      <th>collectedFee0</th>\n",
       "      <th>amount1</th>\n",
       "      <th>fee1</th>\n",
       "      <th>cumFee1</th>\n",
       "      <th>collectedFee1</th>\n",
       "    </tr>\n",
       "  </thead>\n",
       "  <tbody>\n",
       "    <tr>\n",
       "      <th>0</th>\n",
       "      <td>2021-08-02 04:08:07</td>\n",
       "      <td>189.435064</td>\n",
       "      <td>0.000000</td>\n",
       "      <td>0.000000</td>\n",
       "      <td>0.000000</td>\n",
       "      <td>5.137737e+05</td>\n",
       "      <td>0.000000</td>\n",
       "      <td>0.000000</td>\n",
       "      <td>0.000000</td>\n",
       "    </tr>\n",
       "    <tr>\n",
       "      <th>1</th>\n",
       "      <td>2021-08-02 04:08:31</td>\n",
       "      <td>188.196261</td>\n",
       "      <td>0.000000</td>\n",
       "      <td>0.000000</td>\n",
       "      <td>0.000000</td>\n",
       "      <td>5.170867e+05</td>\n",
       "      <td>1.656481</td>\n",
       "      <td>1.656481</td>\n",
       "      <td>1.656481</td>\n",
       "    </tr>\n",
       "    <tr>\n",
       "      <th>2</th>\n",
       "      <td>2021-08-02 04:13:09</td>\n",
       "      <td>186.26435</td>\n",
       "      <td>0.000000</td>\n",
       "      <td>0.000000</td>\n",
       "      <td>0.000000</td>\n",
       "      <td>5.222624e+05</td>\n",
       "      <td>2.587855</td>\n",
       "      <td>4.244336</td>\n",
       "      <td>4.244336</td>\n",
       "    </tr>\n",
       "    <tr>\n",
       "      <th>3</th>\n",
       "      <td>2021-08-02 04:15:47</td>\n",
       "      <td>184.475649</td>\n",
       "      <td>0.000000</td>\n",
       "      <td>0.000000</td>\n",
       "      <td>0.000000</td>\n",
       "      <td>5.270644e+05</td>\n",
       "      <td>2.401004</td>\n",
       "      <td>6.645340</td>\n",
       "      <td>6.645340</td>\n",
       "    </tr>\n",
       "    <tr>\n",
       "      <th>4</th>\n",
       "      <td>2021-08-02 04:20:43</td>\n",
       "      <td>184.322884</td>\n",
       "      <td>0.000000</td>\n",
       "      <td>0.000000</td>\n",
       "      <td>0.000000</td>\n",
       "      <td>5.274750e+05</td>\n",
       "      <td>0.205281</td>\n",
       "      <td>6.850621</td>\n",
       "      <td>6.850621</td>\n",
       "    </tr>\n",
       "    <tr>\n",
       "      <th>...</th>\n",
       "      <td>...</td>\n",
       "      <td>...</td>\n",
       "      <td>...</td>\n",
       "      <td>...</td>\n",
       "      <td>...</td>\n",
       "      <td>...</td>\n",
       "      <td>...</td>\n",
       "      <td>...</td>\n",
       "      <td>...</td>\n",
       "    </tr>\n",
       "    <tr>\n",
       "      <th>9342</th>\n",
       "      <td>2021-08-23 18:00:56</td>\n",
       "      <td>0.016694</td>\n",
       "      <td>0.000000</td>\n",
       "      <td>1.142309</td>\n",
       "      <td>1.142309</td>\n",
       "      <td>1.079761e+06</td>\n",
       "      <td>0.629316</td>\n",
       "      <td>3683.591682</td>\n",
       "      <td>3683.591682</td>\n",
       "    </tr>\n",
       "    <tr>\n",
       "      <th>9343</th>\n",
       "      <td>2021-08-23 18:01:39</td>\n",
       "      <td>0.0</td>\n",
       "      <td>0.000000</td>\n",
       "      <td>1.142309</td>\n",
       "      <td>1.142309</td>\n",
       "      <td>1.079817e+06</td>\n",
       "      <td>0.027886</td>\n",
       "      <td>3683.619568</td>\n",
       "      <td>3683.619568</td>\n",
       "    </tr>\n",
       "    <tr>\n",
       "      <th>9344</th>\n",
       "      <td>2021-08-23 18:02:53</td>\n",
       "      <td>0.0</td>\n",
       "      <td>0.000000</td>\n",
       "      <td>1.142309</td>\n",
       "      <td>1.142309</td>\n",
       "      <td>1.079817e+06</td>\n",
       "      <td>0.000000</td>\n",
       "      <td>3683.619568</td>\n",
       "      <td>3683.619568</td>\n",
       "    </tr>\n",
       "    <tr>\n",
       "      <th>9345</th>\n",
       "      <td>2021-08-23 18:03:39</td>\n",
       "      <td>0.0</td>\n",
       "      <td>0.000000</td>\n",
       "      <td>1.142309</td>\n",
       "      <td>1.142309</td>\n",
       "      <td>1.079817e+06</td>\n",
       "      <td>0.000000</td>\n",
       "      <td>3683.619568</td>\n",
       "      <td>3683.619568</td>\n",
       "    </tr>\n",
       "    <tr>\n",
       "      <th>9346</th>\n",
       "      <td>2021-08-23 18:03:39</td>\n",
       "      <td>0.0</td>\n",
       "      <td>-1.142309</td>\n",
       "      <td>1.142309</td>\n",
       "      <td>0.000000</td>\n",
       "      <td>0.000000e+00</td>\n",
       "      <td>-3683.619568</td>\n",
       "      <td>3683.619568</td>\n",
       "      <td>0.000000</td>\n",
       "    </tr>\n",
       "  </tbody>\n",
       "</table>\n",
       "<p>9347 rows × 9 columns</p>\n",
       "</div>"
      ],
      "text/plain": [
       "                datetime     amount0      fee0   cumFee0  collectedFee0  \\\n",
       "0    2021-08-02 04:08:07  189.435064  0.000000  0.000000       0.000000   \n",
       "1    2021-08-02 04:08:31  188.196261  0.000000  0.000000       0.000000   \n",
       "2    2021-08-02 04:13:09   186.26435  0.000000  0.000000       0.000000   \n",
       "3    2021-08-02 04:15:47  184.475649  0.000000  0.000000       0.000000   \n",
       "4    2021-08-02 04:20:43  184.322884  0.000000  0.000000       0.000000   \n",
       "...                  ...         ...       ...       ...            ...   \n",
       "9342 2021-08-23 18:00:56    0.016694  0.000000  1.142309       1.142309   \n",
       "9343 2021-08-23 18:01:39         0.0  0.000000  1.142309       1.142309   \n",
       "9344 2021-08-23 18:02:53         0.0  0.000000  1.142309       1.142309   \n",
       "9345 2021-08-23 18:03:39         0.0  0.000000  1.142309       1.142309   \n",
       "9346 2021-08-23 18:03:39         0.0 -1.142309  1.142309       0.000000   \n",
       "\n",
       "           amount1         fee1      cumFee1  collectedFee1  \n",
       "0     5.137737e+05     0.000000     0.000000       0.000000  \n",
       "1     5.170867e+05     1.656481     1.656481       1.656481  \n",
       "2     5.222624e+05     2.587855     4.244336       4.244336  \n",
       "3     5.270644e+05     2.401004     6.645340       6.645340  \n",
       "4     5.274750e+05     0.205281     6.850621       6.850621  \n",
       "...            ...          ...          ...            ...  \n",
       "9342  1.079761e+06     0.629316  3683.591682    3683.591682  \n",
       "9343  1.079817e+06     0.027886  3683.619568    3683.619568  \n",
       "9344  1.079817e+06     0.000000  3683.619568    3683.619568  \n",
       "9345  1.079817e+06     0.000000  3683.619568    3683.619568  \n",
       "9346  0.000000e+00 -3683.619568  3683.619568       0.000000  \n",
       "\n",
       "[9347 rows x 9 columns]"
      ]
     },
     "execution_count": 29,
     "metadata": {},
     "output_type": "execute_result"
    },
    {
     "data": {
      "image/png": "[encoded data removed]",
      "text/plain": [
       "<Figure size 432x288 with 1 Axes>"
      ]
     },
     "metadata": {
      "needs_background": "light"
     },
     "output_type": "display_data"
    },
    {
     "data": {
      "image/png": "[encoded data removed]",
      "text/plain": [
       "<Figure size 432x288 with 1 Axes>"
      ]
     },
     "metadata": {
      "needs_background": "light"
     },
     "output_type": "display_data"
    },
    {
     "data": {
      "image/png": "[encoded data removed]",
      "text/plain": [
       "<Figure size 432x288 with 1 Axes>"
      ]
     },
     "metadata": {
      "needs_background": "light"
     },
     "output_type": "display_data"
    },
    {
     "data": {
      "image/png": "[encoded data removed]",
      "text/plain": [
       "<Figure size 432x288 with 1 Axes>"
      ]
     },
     "metadata": {
      "needs_background": "light"
     },
     "output_type": "display_data"
    }
   ],
   "source": [
    "report.positions[2].get_balance(plain=True, draw_plot=True)"
   ]
  },
  {
   "cell_type": "code",
   "execution_count": 30,
   "metadata": {},
   "outputs": [
    {
     "data": {
      "text/html": [
       "<div>\n",
       "<style scoped>\n",
       "    .dataframe tbody tr th:only-of-type {\n",
       "        vertical-align: middle;\n",
       "    }\n",
       "\n",
       "    .dataframe tbody tr th {\n",
       "        vertical-align: top;\n",
       "    }\n",
       "\n",
       "    .dataframe thead th {\n",
       "        text-align: right;\n",
       "    }\n",
       "</style>\n",
       "<table border=\"1\" class=\"dataframe\">\n",
       "  <thead>\n",
       "    <tr style=\"text-align: right;\">\n",
       "      <th></th>\n",
       "      <th>datetime</th>\n",
       "      <th>amount0</th>\n",
       "      <th>fee0</th>\n",
       "      <th>cumFee0</th>\n",
       "      <th>collectedFee0</th>\n",
       "      <th>amount1</th>\n",
       "      <th>fee1</th>\n",
       "      <th>cumFee1</th>\n",
       "      <th>collectedFee1</th>\n",
       "    </tr>\n",
       "  </thead>\n",
       "  <tbody>\n",
       "    <tr>\n",
       "      <th>0</th>\n",
       "      <td>2021-08-23 18:03:42</td>\n",
       "      <td>160.356356</td>\n",
       "      <td>0.000000</td>\n",
       "      <td>0.000000</td>\n",
       "      <td>0.000000</td>\n",
       "      <td>544485.060821</td>\n",
       "      <td>0.000000</td>\n",
       "      <td>0.000000</td>\n",
       "      <td>0.000000</td>\n",
       "    </tr>\n",
       "    <tr>\n",
       "      <th>1</th>\n",
       "      <td>2021-08-23 18:03:54</td>\n",
       "      <td>160.335886</td>\n",
       "      <td>0.000000</td>\n",
       "      <td>0.000000</td>\n",
       "      <td>0.000000</td>\n",
       "      <td>544553.568340</td>\n",
       "      <td>0.034253</td>\n",
       "      <td>0.034253</td>\n",
       "      <td>0.034253</td>\n",
       "    </tr>\n",
       "    <tr>\n",
       "      <th>2</th>\n",
       "      <td>2021-08-23 18:05:07</td>\n",
       "      <td>160.012661</td>\n",
       "      <td>0.000000</td>\n",
       "      <td>0.000000</td>\n",
       "      <td>0.000000</td>\n",
       "      <td>545635.525052</td>\n",
       "      <td>0.540978</td>\n",
       "      <td>0.575231</td>\n",
       "      <td>0.575231</td>\n",
       "    </tr>\n",
       "    <tr>\n",
       "      <th>3</th>\n",
       "      <td>2021-08-23 18:05:27</td>\n",
       "      <td>159.561291</td>\n",
       "      <td>0.000000</td>\n",
       "      <td>0.000000</td>\n",
       "      <td>0.000000</td>\n",
       "      <td>547147.198077</td>\n",
       "      <td>0.755836</td>\n",
       "      <td>1.331067</td>\n",
       "      <td>1.331067</td>\n",
       "    </tr>\n",
       "    <tr>\n",
       "      <th>4</th>\n",
       "      <td>2021-08-23 18:06:09</td>\n",
       "      <td>159.556514</td>\n",
       "      <td>0.000000</td>\n",
       "      <td>0.000000</td>\n",
       "      <td>0.000000</td>\n",
       "      <td>547163.202069</td>\n",
       "      <td>0.008001</td>\n",
       "      <td>1.339068</td>\n",
       "      <td>1.339068</td>\n",
       "    </tr>\n",
       "    <tr>\n",
       "      <th>...</th>\n",
       "      <td>...</td>\n",
       "      <td>...</td>\n",
       "      <td>...</td>\n",
       "      <td>...</td>\n",
       "      <td>...</td>\n",
       "      <td>...</td>\n",
       "      <td>...</td>\n",
       "      <td>...</td>\n",
       "      <td>...</td>\n",
       "    </tr>\n",
       "    <tr>\n",
       "      <th>2670</th>\n",
       "      <td>2021-09-01 08:42:54</td>\n",
       "      <td>143.290989</td>\n",
       "      <td>0.000415</td>\n",
       "      <td>0.263985</td>\n",
       "      <td>0.263985</td>\n",
       "      <td>602236.940020</td>\n",
       "      <td>0.000000</td>\n",
       "      <td>882.000803</td>\n",
       "      <td>882.000803</td>\n",
       "    </tr>\n",
       "    <tr>\n",
       "      <th>2671</th>\n",
       "      <td>2021-09-01 08:45:26</td>\n",
       "      <td>144.31197</td>\n",
       "      <td>0.000510</td>\n",
       "      <td>0.264496</td>\n",
       "      <td>0.264496</td>\n",
       "      <td>598745.345097</td>\n",
       "      <td>0.000000</td>\n",
       "      <td>882.000803</td>\n",
       "      <td>882.000803</td>\n",
       "    </tr>\n",
       "    <tr>\n",
       "      <th>2672</th>\n",
       "      <td>2021-09-01 08:48:02</td>\n",
       "      <td>145.283692</td>\n",
       "      <td>0.000486</td>\n",
       "      <td>0.264982</td>\n",
       "      <td>0.264982</td>\n",
       "      <td>595426.558399</td>\n",
       "      <td>0.000000</td>\n",
       "      <td>882.000803</td>\n",
       "      <td>882.000803</td>\n",
       "    </tr>\n",
       "    <tr>\n",
       "      <th>2673</th>\n",
       "      <td>2021-09-01 08:48:28</td>\n",
       "      <td>145.325041</td>\n",
       "      <td>0.000021</td>\n",
       "      <td>0.265002</td>\n",
       "      <td>0.265002</td>\n",
       "      <td>595285.430796</td>\n",
       "      <td>0.000000</td>\n",
       "      <td>882.000803</td>\n",
       "      <td>882.000803</td>\n",
       "    </tr>\n",
       "    <tr>\n",
       "      <th>2674</th>\n",
       "      <td>2021-09-01 08:49:15</td>\n",
       "      <td>146.167882</td>\n",
       "      <td>0.000421</td>\n",
       "      <td>0.265424</td>\n",
       "      <td>0.265424</td>\n",
       "      <td>592410.402413</td>\n",
       "      <td>0.000000</td>\n",
       "      <td>882.000803</td>\n",
       "      <td>882.000803</td>\n",
       "    </tr>\n",
       "  </tbody>\n",
       "</table>\n",
       "<p>2675 rows × 9 columns</p>\n",
       "</div>"
      ],
      "text/plain": [
       "                datetime     amount0      fee0   cumFee0  collectedFee0  \\\n",
       "0    2021-08-23 18:03:42  160.356356  0.000000  0.000000       0.000000   \n",
       "1    2021-08-23 18:03:54  160.335886  0.000000  0.000000       0.000000   \n",
       "2    2021-08-23 18:05:07  160.012661  0.000000  0.000000       0.000000   \n",
       "3    2021-08-23 18:05:27  159.561291  0.000000  0.000000       0.000000   \n",
       "4    2021-08-23 18:06:09  159.556514  0.000000  0.000000       0.000000   \n",
       "...                  ...         ...       ...       ...            ...   \n",
       "2670 2021-09-01 08:42:54  143.290989  0.000415  0.263985       0.263985   \n",
       "2671 2021-09-01 08:45:26   144.31197  0.000510  0.264496       0.264496   \n",
       "2672 2021-09-01 08:48:02  145.283692  0.000486  0.264982       0.264982   \n",
       "2673 2021-09-01 08:48:28  145.325041  0.000021  0.265002       0.265002   \n",
       "2674 2021-09-01 08:49:15  146.167882  0.000421  0.265424       0.265424   \n",
       "\n",
       "            amount1      fee1     cumFee1  collectedFee1  \n",
       "0     544485.060821  0.000000    0.000000       0.000000  \n",
       "1     544553.568340  0.034253    0.034253       0.034253  \n",
       "2     545635.525052  0.540978    0.575231       0.575231  \n",
       "3     547147.198077  0.755836    1.331067       1.331067  \n",
       "4     547163.202069  0.008001    1.339068       1.339068  \n",
       "...             ...       ...         ...            ...  \n",
       "2670  602236.940020  0.000000  882.000803     882.000803  \n",
       "2671  598745.345097  0.000000  882.000803     882.000803  \n",
       "2672  595426.558399  0.000000  882.000803     882.000803  \n",
       "2673  595285.430796  0.000000  882.000803     882.000803  \n",
       "2674  592410.402413  0.000000  882.000803     882.000803  \n",
       "\n",
       "[2675 rows x 9 columns]"
      ]
     },
     "execution_count": 30,
     "metadata": {},
     "output_type": "execute_result"
    },
    {
     "data": {
      "image/png": "[encoded data removed]",
      "text/plain": [
       "<Figure size 432x288 with 1 Axes>"
      ]
     },
     "metadata": {
      "needs_background": "light"
     },
     "output_type": "display_data"
    },
    {
     "data": {
      "image/png": "[encoded data removed]",
      "text/plain": [
       "<Figure size 432x288 with 1 Axes>"
      ]
     },
     "metadata": {
      "needs_background": "light"
     },
     "output_type": "display_data"
    },
    {
     "data": {
      "image/png": "[encoded data removed]",
      "text/plain": [
       "<Figure size 432x288 with 1 Axes>"
      ]
     },
     "metadata": {
      "needs_background": "light"
     },
     "output_type": "display_data"
    },
    {
     "data": {
      "image/png": "[encoded data removed]",
      "text/plain": [
       "<Figure size 432x288 with 1 Axes>"
      ]
     },
     "metadata": {
      "needs_background": "light"
     },
     "output_type": "display_data"
    }
   ],
   "source": [
    "report.positions[3].get_balance(plain=True, draw_plot=True)"
   ]
  },
  {
   "cell_type": "markdown",
   "metadata": {},
   "source": [
    "### 展示总体资产状况\n",
    "\n",
    "```\n",
    "TotalAmount = WalletAmount + AmountInPositions + CummulativeFee\n",
    "```"
   ]
  },
  {
   "cell_type": "code",
   "execution_count": 31,
   "metadata": {},
   "outputs": [
    {
     "data": {
      "image/png": "[encoded data removed]",
      "text/plain": [
       "<Figure size 432x288 with 1 Axes>"
      ]
     },
     "metadata": {
      "needs_background": "light"
     },
     "output_type": "display_data"
    },
    {
     "data": {
      "image/png": "[encoded data removed]",
      "text/plain": [
       "<Figure size 432x288 with 1 Axes>"
      ]
     },
     "metadata": {
      "needs_background": "light"
     },
     "output_type": "display_data"
    },
    {
     "data": {
      "image/png": "[encoded data removed]",
      "text/plain": [
       "<Figure size 432x288 with 1 Axes>"
      ]
     },
     "metadata": {
      "needs_background": "light"
     },
     "output_type": "display_data"
    },
    {
     "data": {
      "image/png": "[encoded data removed]",
      "text/plain": [
       "<Figure size 432x288 with 1 Axes>"
      ]
     },
     "metadata": {
      "needs_background": "light"
     },
     "output_type": "display_data"
    }
   ],
   "source": [
    "total_balance = report.total_balance(draw_plot=True, plain=True)"
   ]
  },
  {
   "cell_type": "code",
   "execution_count": 32,
   "metadata": {},
   "outputs": [
    {
     "data": {
      "text/plain": [
       "timestamp\n",
       "1620608415    3904.061118\n",
       "1620608620    3904.599670\n",
       "1620608717    3904.613285\n",
       "1620609550    3903.002002\n",
       "1620609698    3903.294023\n",
       "                 ...     \n",
       "1630457126    3417.548561\n",
       "1630457282    3413.187409\n",
       "1630457308    3413.002017\n",
       "1630457355    3409.226352\n",
       "1630457561    3406.941611\n",
       "Name: price, Length: 72807, dtype: float64"
      ]
     },
     "execution_count": 32,
     "metadata": {},
     "output_type": "execute_result"
    }
   ],
   "source": [
    "price = pricedata.drop_duplicates(\"timestamp\").set_index(\"timestamp\")[\"price\"]\n",
    "price"
   ]
  },
  {
   "cell_type": "code",
   "execution_count": 33,
   "metadata": {},
   "outputs": [],
   "source": [
    "eth_balance = total_balance.set_index(\"timestamp\")[[\"amount0\", \"cumFee0\"]].sum(axis=1) * price"
   ]
  },
  {
   "cell_type": "code",
   "execution_count": 36,
   "metadata": {},
   "outputs": [],
   "source": [
    "usdt_balance = total_balance.set_index(\"timestamp\")[[\"amount1\", \"cumFee1\"]].sum(axis=1)"
   ]
  },
  {
   "cell_type": "code",
   "execution_count": 37,
   "metadata": {
    "scrolled": false
   },
   "outputs": [
    {
     "data": {
      "text/plain": [
       "timestamp\n",
       "1620608415    1.000000e+06\n",
       "1620608620    1.000000e+06\n",
       "1620608717    1.000000e+06\n",
       "1620609550    1.000000e+06\n",
       "1620609698    1.000000e+06\n",
       "                  ...     \n",
       "1630457126    1.159184e+06\n",
       "1630457282    1.158478e+06\n",
       "1630457308    1.158448e+06\n",
       "1630457355    1.157833e+06\n",
       "1630457561             NaN\n",
       "Length: 72807, dtype: float64"
      ]
     },
     "execution_count": 37,
     "metadata": {},
     "output_type": "execute_result"
    }
   ],
   "source": [
    "usdt_balance+eth_balance"
   ]
  },
  {
   "cell_type": "code",
   "execution_count": 38,
   "metadata": {},
   "outputs": [],
   "source": [
    "# eth_balance.plot()\n",
    "# usdt_balance.plot()\n",
    "tb_Timing = (usdt_balance+eth_balance)"
   ]
  },
  {
   "cell_type": "code",
   "execution_count": 39,
   "metadata": {},
   "outputs": [
    {
     "data": {
      "text/plain": [
       "<matplotlib.axes._subplots.AxesSubplot at 0x1c04e3b2348>"
      ]
     },
     "execution_count": 39,
     "metadata": {},
     "output_type": "execute_result"
    },
    {
     "data": {
      "image/png": "[encoded data removed]",
      "text/plain": [
       "<Figure size 432x288 with 1 Axes>"
      ]
     },
     "metadata": {
      "needs_background": "light"
     },
     "output_type": "display_data"
    }
   ],
   "source": [
    "tb_Timing.plot()"
   ]
  },
  {
   "cell_type": "markdown",
   "metadata": {},
   "source": [
    "### 账户总体市值和价格变动\n"
   ]
  },
  {
   "cell_type": "code",
   "execution_count": 40,
   "metadata": {},
   "outputs": [
    {
     "data": {
      "text/plain": [
       "<matplotlib.axes._subplots.AxesSubplot at 0x1c04e0edb88>"
      ]
     },
     "execution_count": 40,
     "metadata": {},
     "output_type": "execute_result"
    },
    {
     "data": {
      "image/png": "[encoded data removed]",
      "text/plain": [
       "<Figure size 432x288 with 1 Axes>"
      ]
     },
     "metadata": {
      "needs_background": "light"
     },
     "output_type": "display_data"
    },
    {
     "data": {
      "image/png": "[encoded data removed]",
      "text/plain": [
       "<Figure size 432x288 with 1 Axes>"
      ]
     },
     "metadata": {
      "needs_background": "light"
     },
     "output_type": "display_data"
    }
   ],
   "source": [
    "assets_value = pricedata.set_index(\"timestamp\")[\"price\"] * (total_balance[\"amount1\"] / 10**decimal1) + total_balance[\"amount0\"] / 10**decimal0\n",
    "assets_value.plot()\n",
    "pricedata.set_index(\"timestamp\")[[\"price\"]].plot()"
   ]
  },
  {
   "cell_type": "code",
   "execution_count": null,
   "metadata": {},
   "outputs": [],
   "source": []
  }
 ],
 "metadata": {
  "kernelspec": {
   "display_name": "Python 3",
   "language": "python",
   "name": "python3"
  },
  "language_info": {
   "codemirror_mode": {
    "name": "ipython",
    "version": 3
   },
   "file_extension": ".py",
   "mimetype": "text/x-python",
   "name": "python",
   "nbconvert_exporter": "python",
   "pygments_lexer": "ipython3",
   "version": "3.7.4"
  }
 },
 "nbformat": 4,
 "nbformat_minor": 5
}
